{
 "cells": [
  {
   "cell_type": "code",
   "execution_count": 1,
   "id": "3b0ad4b0",
   "metadata": {},
   "outputs": [
    {
     "name": "stderr",
     "output_type": "stream",
     "text": [
      "c:\\Users\\Stefano\\OneDrive\\Desktop\\LLM_Agent_Cybersecurity_Forensic\\venv\\Lib\\site-packages\\tqdm\\auto.py:21: TqdmWarning: IProgress not found. Please update jupyter and ipywidgets. See https://ipywidgets.readthedocs.io/en/stable/user_install.html\n",
      "  from .autonotebook import tqdm as notebook_tqdm\n",
      "C:\\Users\\Stefano\\AppData\\Local\\Temp\\ipykernel_22704\\4026092212.py:11: LangChainBetaWarning: The function `init_embeddings` is in beta. It is actively being worked on, so the API may change.\n",
      "  \"embed\": init_embeddings(\"openai:text-embedding-3-small\"),\n"
     ]
    }
   ],
   "source": [
    "from multi_agent.main_agent import build_graph\n",
    "from langgraph.store.memory import InMemoryStore\n",
    "from langchain.embeddings import init_embeddings\n",
    "from dotenv import load_dotenv\n",
    "\n",
    "\n",
    "load_dotenv()\n",
    "def init_store() -> InMemoryStore:\n",
    "    return InMemoryStore(\n",
    "        index={\n",
    "            \"embed\": init_embeddings(\"openai:text-embedding-3-small\"),\n",
    "            \"dims\": 1536,\n",
    "        }\n",
    "    )\n",
    "store = init_store()\n",
    "graph = build_graph(store)"
   ]
  },
  {
   "cell_type": "code",
   "execution_count": 2,
   "id": "68f3796a",
   "metadata": {},
   "outputs": [
    {
     "data": {
      "text/markdown": [
       "```mermaid\n",
       "---\n",
       "config:\n",
       "  flowchart:\n",
       "    curve: linear\n",
       "---\n",
       "graph TD;\n",
       "\t__start__([<p>__start__</p>]):::first\n",
       "\tmain_agent(main_agent)\n",
       "\ttools(tools)\n",
       "\tlog_reporter(log_reporter)\n",
       "\tpcap_flows_reporter(pcap_flows_reporter)\n",
       "\t__end__([<p>__end__</p>]):::last\n",
       "\t__start__ --> log_reporter;\n",
       "\tlog_reporter --> pcap_flows_reporter;\n",
       "\tpcap_flows_reporter --> main_agent;\n",
       "\tmain_agent -.-> tools;\n",
       "\tmain_agent -.-> __end__;\n",
       "\ttools -.-> main_agent;\n",
       "\ttools -.-> __end__;\n",
       "\tmain_agent -.-> main_agent;\n",
       "\tclassDef default fill:#f2f0ff,line-height:1.2\n",
       "\tclassDef first fill-opacity:0\n",
       "\tclassDef last fill:#bfb6fc\n",
       "\n",
       "```"
      ],
      "text/plain": [
       "<IPython.core.display.Markdown object>"
      ]
     },
     "metadata": {},
     "output_type": "display_data"
    }
   ],
   "source": [
    "from IPython.display import Image, display,Markdown\n",
    "\n",
    "try:\n",
    "    #display(Image(graph.get_graph().draw_mermaid_png()))\n",
    "    display(Markdown(f\"```mermaid\\n{graph.get_graph().draw_mermaid()}\\n```\"))\n",
    "    #Copy and paste the markdown into: https://mermaid.live to obtain the image\n",
    "except Exception as e:\n",
    "    print(e)"
   ]
  }
 ],
 "metadata": {
  "kernelspec": {
   "display_name": "venv",
   "language": "python",
   "name": "python3"
  },
  "language_info": {
   "codemirror_mode": {
    "name": "ipython",
    "version": 3
   },
   "file_extension": ".py",
   "mimetype": "text/x-python",
   "name": "python",
   "nbconvert_exporter": "python",
   "pygments_lexer": "ipython3",
   "version": "3.11.5"
  }
 },
 "nbformat": 4,
 "nbformat_minor": 5
}
